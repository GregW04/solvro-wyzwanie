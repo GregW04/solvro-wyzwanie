{
 "cells": [
  {
   "cell_type": "code",
   "execution_count": 1,
   "metadata": {},
   "outputs": [],
   "source": [
    "import pandas as pd\n",
    "import seaborn as sns\n",
    "import matplotlib.pyplot as plt\n",
    "import numpy as np\n"
   ]
  },
  {
   "cell_type": "code",
   "execution_count": 2,
   "metadata": {},
   "outputs": [
    {
     "data": {
      "text/html": [
       "<div>\n",
       "<style scoped>\n",
       "    .dataframe tbody tr th:only-of-type {\n",
       "        vertical-align: middle;\n",
       "    }\n",
       "\n",
       "    .dataframe tbody tr th {\n",
       "        vertical-align: top;\n",
       "    }\n",
       "\n",
       "    .dataframe thead th {\n",
       "        text-align: right;\n",
       "    }\n",
       "</style>\n",
       "<table border=\"1\" class=\"dataframe\">\n",
       "  <thead>\n",
       "    <tr style=\"text-align: right;\">\n",
       "      <th></th>\n",
       "      <th>id</th>\n",
       "      <th>name</th>\n",
       "      <th>category</th>\n",
       "      <th>glass</th>\n",
       "      <th>tags</th>\n",
       "      <th>instructions</th>\n",
       "      <th>imageUrl</th>\n",
       "      <th>alcoholic</th>\n",
       "      <th>createdAt</th>\n",
       "      <th>updatedAt</th>\n",
       "      <th>ingredients</th>\n",
       "    </tr>\n",
       "  </thead>\n",
       "  <tbody>\n",
       "    <tr>\n",
       "      <th>0</th>\n",
       "      <td>11000</td>\n",
       "      <td>Mojito</td>\n",
       "      <td>Cocktail</td>\n",
       "      <td>Highball glass</td>\n",
       "      <td>[IBA, ContemporaryClassic, Alcoholic, USA, Asi...</td>\n",
       "      <td>Muddle mint leaves with sugar and lime juice. ...</td>\n",
       "      <td>https://cocktails.solvro.pl/images/ingredients...</td>\n",
       "      <td>1</td>\n",
       "      <td>2024-08-18T19:01:17.000+00:00</td>\n",
       "      <td>2024-08-18T19:06:16.000+00:00</td>\n",
       "      <td>[{'id': 170, 'name': 'Soda water', 'descriptio...</td>\n",
       "    </tr>\n",
       "    <tr>\n",
       "      <th>1</th>\n",
       "      <td>11001</td>\n",
       "      <td>Old Fashioned</td>\n",
       "      <td>Cocktail</td>\n",
       "      <td>Old-fashioned glass</td>\n",
       "      <td>[IBA, Classic, Alcoholic, Expensive, Savory]</td>\n",
       "      <td>Place sugar cube in old fashioned glass and sa...</td>\n",
       "      <td>https://cocktails.solvro.pl/images/ingredients...</td>\n",
       "      <td>1</td>\n",
       "      <td>2024-08-18T19:01:58.000+00:00</td>\n",
       "      <td>2024-08-18T19:06:17.000+00:00</td>\n",
       "      <td>[{'id': 513, 'name': 'Water', 'description': '...</td>\n",
       "    </tr>\n",
       "    <tr>\n",
       "      <th>2</th>\n",
       "      <td>11002</td>\n",
       "      <td>Long Island Tea</td>\n",
       "      <td>Ordinary Drink</td>\n",
       "      <td>Highball glass</td>\n",
       "      <td>[Strong, Asia, StrongFlavor, Brunch, Vegetaria...</td>\n",
       "      <td>Combine all ingredients (except cola) and pour...</td>\n",
       "      <td>https://cocktails.solvro.pl/images/ingredients...</td>\n",
       "      <td>1</td>\n",
       "      <td>2024-08-18T19:01:58.000+00:00</td>\n",
       "      <td>2024-08-18T19:06:17.000+00:00</td>\n",
       "      <td>[{'id': 305, 'name': 'Light Rum', 'description...</td>\n",
       "    </tr>\n",
       "    <tr>\n",
       "      <th>3</th>\n",
       "      <td>11003</td>\n",
       "      <td>Negroni</td>\n",
       "      <td>Ordinary Drink</td>\n",
       "      <td>Old-fashioned glass</td>\n",
       "      <td>[IBA, Classic]</td>\n",
       "      <td>Stir into glass over ice, garnish and serve.</td>\n",
       "      <td>https://cocktails.solvro.pl/images/ingredients...</td>\n",
       "      <td>1</td>\n",
       "      <td>2024-08-18T19:01:58.000+00:00</td>\n",
       "      <td>2024-08-18T19:06:17.000+00:00</td>\n",
       "      <td>[{'id': 482, 'name': 'Sweet Vermouth', 'descri...</td>\n",
       "    </tr>\n",
       "    <tr>\n",
       "      <th>4</th>\n",
       "      <td>11004</td>\n",
       "      <td>Whiskey Sour</td>\n",
       "      <td>Ordinary Drink</td>\n",
       "      <td>Old-fashioned glass</td>\n",
       "      <td>[IBA, Classic, Alcoholic, ContemporaryClassic]</td>\n",
       "      <td>Shake with ice. Strain into chilled glass, gar...</td>\n",
       "      <td>https://cocktails.solvro.pl/images/ingredients...</td>\n",
       "      <td>1</td>\n",
       "      <td>2024-08-18T19:01:59.000+00:00</td>\n",
       "      <td>2024-08-18T19:06:18.000+00:00</td>\n",
       "      <td>[{'id': 409, 'name': 'Powdered Sugar', 'descri...</td>\n",
       "    </tr>\n",
       "    <tr>\n",
       "      <th>...</th>\n",
       "      <td>...</td>\n",
       "      <td>...</td>\n",
       "      <td>...</td>\n",
       "      <td>...</td>\n",
       "      <td>...</td>\n",
       "      <td>...</td>\n",
       "      <td>...</td>\n",
       "      <td>...</td>\n",
       "      <td>...</td>\n",
       "      <td>...</td>\n",
       "      <td>...</td>\n",
       "    </tr>\n",
       "    <tr>\n",
       "      <th>129</th>\n",
       "      <td>11985</td>\n",
       "      <td>Quarter Deck Cocktail</td>\n",
       "      <td>Ordinary Drink</td>\n",
       "      <td>Cocktail glass</td>\n",
       "      <td>None</td>\n",
       "      <td>Stir all ingredients with ice, strain into a c...</td>\n",
       "      <td>https://cocktails.solvro.pl/images/ingredients...</td>\n",
       "      <td>1</td>\n",
       "      <td>2024-08-18T19:11:43.000+00:00</td>\n",
       "      <td>2024-08-18T19:11:43.000+00:00</td>\n",
       "      <td>[{'id': 305, 'name': 'Light Rum', 'description...</td>\n",
       "    </tr>\n",
       "    <tr>\n",
       "      <th>130</th>\n",
       "      <td>11987</td>\n",
       "      <td>Queen Bee</td>\n",
       "      <td>Ordinary Drink</td>\n",
       "      <td>Cocktail glass</td>\n",
       "      <td>None</td>\n",
       "      <td>Shake all ingredients with ice, strain into a ...</td>\n",
       "      <td>https://cocktails.solvro.pl/images/ingredients...</td>\n",
       "      <td>1</td>\n",
       "      <td>2024-08-18T19:11:44.000+00:00</td>\n",
       "      <td>2024-08-18T19:11:44.000+00:00</td>\n",
       "      <td>[{'id': 137, 'name': 'Coffee Brandy', 'descrip...</td>\n",
       "    </tr>\n",
       "    <tr>\n",
       "      <th>131</th>\n",
       "      <td>11989</td>\n",
       "      <td>Queen Charlotte</td>\n",
       "      <td>Ordinary Drink</td>\n",
       "      <td>Collins glass</td>\n",
       "      <td>None</td>\n",
       "      <td>Pour red wine and grenadine into a collins gla...</td>\n",
       "      <td>https://cocktails.solvro.pl/images/ingredients...</td>\n",
       "      <td>1</td>\n",
       "      <td>2024-08-18T19:11:45.000+00:00</td>\n",
       "      <td>2024-08-18T19:11:45.000+00:00</td>\n",
       "      <td>[{'id': 250, 'name': 'Grenadine', 'description...</td>\n",
       "    </tr>\n",
       "    <tr>\n",
       "      <th>132</th>\n",
       "      <td>11991</td>\n",
       "      <td>Queen Elizabeth</td>\n",
       "      <td>Ordinary Drink</td>\n",
       "      <td>Cocktail glass</td>\n",
       "      <td>None</td>\n",
       "      <td>Stir all ingredients with ice, strain into a c...</td>\n",
       "      <td>https://cocktails.solvro.pl/images/ingredients...</td>\n",
       "      <td>1</td>\n",
       "      <td>2024-08-18T19:11:45.000+00:00</td>\n",
       "      <td>2024-08-18T19:11:45.000+00:00</td>\n",
       "      <td>[{'id': 2, 'name': 'Gin', 'description': 'Gin ...</td>\n",
       "    </tr>\n",
       "    <tr>\n",
       "      <th>133</th>\n",
       "      <td>11993</td>\n",
       "      <td>Quentin</td>\n",
       "      <td>Ordinary Drink</td>\n",
       "      <td>Cocktail glass</td>\n",
       "      <td>None</td>\n",
       "      <td>In a shaker half-filled with ice cubes, combin...</td>\n",
       "      <td>https://cocktails.solvro.pl/images/ingredients...</td>\n",
       "      <td>1</td>\n",
       "      <td>2024-08-18T19:11:46.000+00:00</td>\n",
       "      <td>2024-08-18T19:11:46.000+00:00</td>\n",
       "      <td>[{'id': 179, 'name': 'Dark Rum', 'description'...</td>\n",
       "    </tr>\n",
       "  </tbody>\n",
       "</table>\n",
       "<p>134 rows × 11 columns</p>\n",
       "</div>"
      ],
      "text/plain": [
       "        id  ...                                        ingredients\n",
       "0    11000  ...  [{'id': 170, 'name': 'Soda water', 'descriptio...\n",
       "1    11001  ...  [{'id': 513, 'name': 'Water', 'description': '...\n",
       "2    11002  ...  [{'id': 305, 'name': 'Light Rum', 'description...\n",
       "3    11003  ...  [{'id': 482, 'name': 'Sweet Vermouth', 'descri...\n",
       "4    11004  ...  [{'id': 409, 'name': 'Powdered Sugar', 'descri...\n",
       "..     ...  ...                                                ...\n",
       "129  11985  ...  [{'id': 305, 'name': 'Light Rum', 'description...\n",
       "130  11987  ...  [{'id': 137, 'name': 'Coffee Brandy', 'descrip...\n",
       "131  11989  ...  [{'id': 250, 'name': 'Grenadine', 'description...\n",
       "132  11991  ...  [{'id': 2, 'name': 'Gin', 'description': 'Gin ...\n",
       "133  11993  ...  [{'id': 179, 'name': 'Dark Rum', 'description'...\n",
       "\n",
       "[134 rows x 11 columns]"
      ]
     },
     "execution_count": null,
     "metadata": {},
     "output_type": "execute_result"
    }
   ],
   "source": [
    "data = pd.read_json('data/cocktail_dataset.json')\n",
    "data"
   ]
  },
  {
   "cell_type": "markdown",
   "metadata": {},
   "source": [
    "# EDA\n"
   ]
  },
  {
   "cell_type": "code",
   "execution_count": 3,
   "metadata": {},
   "outputs": [
    {
     "data": {
      "text/plain": [
       "id               int64\n",
       "name            object\n",
       "category        object\n",
       "glass           object\n",
       "tags            object\n",
       "instructions    object\n",
       "imageUrl        object\n",
       "alcoholic        int64\n",
       "createdAt       object\n",
       "updatedAt       object\n",
       "ingredients     object\n",
       "dtype: object"
      ]
     },
     "execution_count": null,
     "metadata": {},
     "output_type": "execute_result"
    }
   ],
   "source": [
    "data.dtypes\n",
    "# we have mainly categorical data "
   ]
  },
  {
   "cell_type": "code",
   "execution_count": 4,
   "metadata": {},
   "outputs": [
    {
     "data": {
      "text/plain": [
       "array([1])"
      ]
     },
     "execution_count": null,
     "metadata": {},
     "output_type": "execute_result"
    }
   ],
   "source": [
    "data['alcoholic'].unique()\n",
    "# If we had new data for predictions it might be useful to keep this feature, so with pipeline it could be useful, right now there will be no added value for the training process"
   ]
  },
  {
   "cell_type": "code",
   "execution_count": 5,
   "metadata": {},
   "outputs": [
    {
     "data": {
      "text/plain": [
       "0      [{'id': 170, 'name': 'Soda water', 'descriptio...\n",
       "1      [{'id': 513, 'name': 'Water', 'description': '...\n",
       "2      [{'id': 305, 'name': 'Light Rum', 'description...\n",
       "3      [{'id': 482, 'name': 'Sweet Vermouth', 'descri...\n",
       "4      [{'id': 409, 'name': 'Powdered Sugar', 'descri...\n",
       "                             ...                        \n",
       "129    [{'id': 305, 'name': 'Light Rum', 'description...\n",
       "130    [{'id': 137, 'name': 'Coffee Brandy', 'descrip...\n",
       "131    [{'id': 250, 'name': 'Grenadine', 'description...\n",
       "132    [{'id': 2, 'name': 'Gin', 'description': 'Gin ...\n",
       "133    [{'id': 179, 'name': 'Dark Rum', 'description'...\n",
       "Name: ingredients, Length: 134, dtype: object"
      ]
     },
     "execution_count": null,
     "metadata": {},
     "output_type": "execute_result"
    }
   ],
   "source": [
    "data['ingredients']\n",
    "# exact format"
   ]
  },
  {
   "cell_type": "code",
   "execution_count": 18,
   "metadata": {},
   "outputs": [
    {
     "data": {
      "text/plain": [
       "134"
      ]
     },
     "execution_count": null,
     "metadata": {},
     "output_type": "execute_result"
    }
   ],
   "source": [
    "len(data['name'].unique())\n",
    "# 134 names of drinks"
   ]
  },
  {
   "cell_type": "code",
   "execution_count": 7,
   "metadata": {},
   "outputs": [
    {
     "data": {
      "text/html": [
       "<div>\n",
       "<style scoped>\n",
       "    .dataframe tbody tr th:only-of-type {\n",
       "        vertical-align: middle;\n",
       "    }\n",
       "\n",
       "    .dataframe tbody tr th {\n",
       "        vertical-align: top;\n",
       "    }\n",
       "\n",
       "    .dataframe thead th {\n",
       "        text-align: right;\n",
       "    }\n",
       "</style>\n",
       "<table border=\"1\" class=\"dataframe\">\n",
       "  <thead>\n",
       "    <tr style=\"text-align: right;\">\n",
       "      <th></th>\n",
       "      <th>imageUrl</th>\n",
       "      <th>createdAt</th>\n",
       "      <th>updatedAt</th>\n",
       "    </tr>\n",
       "  </thead>\n",
       "  <tbody>\n",
       "    <tr>\n",
       "      <th>0</th>\n",
       "      <td>https://cocktails.solvro.pl/images/ingredients...</td>\n",
       "      <td>2024-08-18T19:01:17.000+00:00</td>\n",
       "      <td>2024-08-18T19:06:16.000+00:00</td>\n",
       "    </tr>\n",
       "    <tr>\n",
       "      <th>1</th>\n",
       "      <td>https://cocktails.solvro.pl/images/ingredients...</td>\n",
       "      <td>2024-08-18T19:01:58.000+00:00</td>\n",
       "      <td>2024-08-18T19:06:17.000+00:00</td>\n",
       "    </tr>\n",
       "    <tr>\n",
       "      <th>2</th>\n",
       "      <td>https://cocktails.solvro.pl/images/ingredients...</td>\n",
       "      <td>2024-08-18T19:01:58.000+00:00</td>\n",
       "      <td>2024-08-18T19:06:17.000+00:00</td>\n",
       "    </tr>\n",
       "    <tr>\n",
       "      <th>3</th>\n",
       "      <td>https://cocktails.solvro.pl/images/ingredients...</td>\n",
       "      <td>2024-08-18T19:01:58.000+00:00</td>\n",
       "      <td>2024-08-18T19:06:17.000+00:00</td>\n",
       "    </tr>\n",
       "    <tr>\n",
       "      <th>4</th>\n",
       "      <td>https://cocktails.solvro.pl/images/ingredients...</td>\n",
       "      <td>2024-08-18T19:01:59.000+00:00</td>\n",
       "      <td>2024-08-18T19:06:18.000+00:00</td>\n",
       "    </tr>\n",
       "    <tr>\n",
       "      <th>...</th>\n",
       "      <td>...</td>\n",
       "      <td>...</td>\n",
       "      <td>...</td>\n",
       "    </tr>\n",
       "    <tr>\n",
       "      <th>129</th>\n",
       "      <td>https://cocktails.solvro.pl/images/ingredients...</td>\n",
       "      <td>2024-08-18T19:11:43.000+00:00</td>\n",
       "      <td>2024-08-18T19:11:43.000+00:00</td>\n",
       "    </tr>\n",
       "    <tr>\n",
       "      <th>130</th>\n",
       "      <td>https://cocktails.solvro.pl/images/ingredients...</td>\n",
       "      <td>2024-08-18T19:11:44.000+00:00</td>\n",
       "      <td>2024-08-18T19:11:44.000+00:00</td>\n",
       "    </tr>\n",
       "    <tr>\n",
       "      <th>131</th>\n",
       "      <td>https://cocktails.solvro.pl/images/ingredients...</td>\n",
       "      <td>2024-08-18T19:11:45.000+00:00</td>\n",
       "      <td>2024-08-18T19:11:45.000+00:00</td>\n",
       "    </tr>\n",
       "    <tr>\n",
       "      <th>132</th>\n",
       "      <td>https://cocktails.solvro.pl/images/ingredients...</td>\n",
       "      <td>2024-08-18T19:11:45.000+00:00</td>\n",
       "      <td>2024-08-18T19:11:45.000+00:00</td>\n",
       "    </tr>\n",
       "    <tr>\n",
       "      <th>133</th>\n",
       "      <td>https://cocktails.solvro.pl/images/ingredients...</td>\n",
       "      <td>2024-08-18T19:11:46.000+00:00</td>\n",
       "      <td>2024-08-18T19:11:46.000+00:00</td>\n",
       "    </tr>\n",
       "  </tbody>\n",
       "</table>\n",
       "<p>134 rows × 3 columns</p>\n",
       "</div>"
      ],
      "text/plain": [
       "                                              imageUrl  ...                      updatedAt\n",
       "0    https://cocktails.solvro.pl/images/ingredients...  ...  2024-08-18T19:06:16.000+00:00\n",
       "1    https://cocktails.solvro.pl/images/ingredients...  ...  2024-08-18T19:06:17.000+00:00\n",
       "2    https://cocktails.solvro.pl/images/ingredients...  ...  2024-08-18T19:06:17.000+00:00\n",
       "3    https://cocktails.solvro.pl/images/ingredients...  ...  2024-08-18T19:06:17.000+00:00\n",
       "4    https://cocktails.solvro.pl/images/ingredients...  ...  2024-08-18T19:06:18.000+00:00\n",
       "..                                                 ...  ...                            ...\n",
       "129  https://cocktails.solvro.pl/images/ingredients...  ...  2024-08-18T19:11:43.000+00:00\n",
       "130  https://cocktails.solvro.pl/images/ingredients...  ...  2024-08-18T19:11:44.000+00:00\n",
       "131  https://cocktails.solvro.pl/images/ingredients...  ...  2024-08-18T19:11:45.000+00:00\n",
       "132  https://cocktails.solvro.pl/images/ingredients...  ...  2024-08-18T19:11:45.000+00:00\n",
       "133  https://cocktails.solvro.pl/images/ingredients...  ...  2024-08-18T19:11:46.000+00:00\n",
       "\n",
       "[134 rows x 3 columns]"
      ]
     },
     "execution_count": null,
     "metadata": {},
     "output_type": "execute_result"
    }
   ],
   "source": [
    "# Rows to drop \n",
    "data[['imageUrl', 'createdAt', 'updatedAt']]"
   ]
  },
  {
   "cell_type": "code",
   "execution_count": 8,
   "metadata": {},
   "outputs": [
    {
     "data": {
      "text/html": [
       "<div>\n",
       "<style scoped>\n",
       "    .dataframe tbody tr th:only-of-type {\n",
       "        vertical-align: middle;\n",
       "    }\n",
       "\n",
       "    .dataframe tbody tr th {\n",
       "        vertical-align: top;\n",
       "    }\n",
       "\n",
       "    .dataframe thead th {\n",
       "        text-align: right;\n",
       "    }\n",
       "</style>\n",
       "<table border=\"1\" class=\"dataframe\">\n",
       "  <thead>\n",
       "    <tr style=\"text-align: right;\">\n",
       "      <th></th>\n",
       "      <th>id</th>\n",
       "      <th>name</th>\n",
       "      <th>category</th>\n",
       "      <th>glass</th>\n",
       "      <th>tags</th>\n",
       "      <th>instructions</th>\n",
       "      <th>alcoholic</th>\n",
       "      <th>ingredients</th>\n",
       "    </tr>\n",
       "  </thead>\n",
       "  <tbody>\n",
       "    <tr>\n",
       "      <th>0</th>\n",
       "      <td>11000</td>\n",
       "      <td>Mojito</td>\n",
       "      <td>Cocktail</td>\n",
       "      <td>Highball glass</td>\n",
       "      <td>[IBA, ContemporaryClassic, Alcoholic, USA, Asi...</td>\n",
       "      <td>Muddle mint leaves with sugar and lime juice. ...</td>\n",
       "      <td>1</td>\n",
       "      <td>[{'id': 170, 'name': 'Soda water', 'descriptio...</td>\n",
       "    </tr>\n",
       "    <tr>\n",
       "      <th>1</th>\n",
       "      <td>11001</td>\n",
       "      <td>Old Fashioned</td>\n",
       "      <td>Cocktail</td>\n",
       "      <td>Old-fashioned glass</td>\n",
       "      <td>[IBA, Classic, Alcoholic, Expensive, Savory]</td>\n",
       "      <td>Place sugar cube in old fashioned glass and sa...</td>\n",
       "      <td>1</td>\n",
       "      <td>[{'id': 513, 'name': 'Water', 'description': '...</td>\n",
       "    </tr>\n",
       "    <tr>\n",
       "      <th>2</th>\n",
       "      <td>11002</td>\n",
       "      <td>Long Island Tea</td>\n",
       "      <td>Ordinary Drink</td>\n",
       "      <td>Highball glass</td>\n",
       "      <td>[Strong, Asia, StrongFlavor, Brunch, Vegetaria...</td>\n",
       "      <td>Combine all ingredients (except cola) and pour...</td>\n",
       "      <td>1</td>\n",
       "      <td>[{'id': 305, 'name': 'Light Rum', 'description...</td>\n",
       "    </tr>\n",
       "    <tr>\n",
       "      <th>3</th>\n",
       "      <td>11003</td>\n",
       "      <td>Negroni</td>\n",
       "      <td>Ordinary Drink</td>\n",
       "      <td>Old-fashioned glass</td>\n",
       "      <td>[IBA, Classic]</td>\n",
       "      <td>Stir into glass over ice, garnish and serve.</td>\n",
       "      <td>1</td>\n",
       "      <td>[{'id': 482, 'name': 'Sweet Vermouth', 'descri...</td>\n",
       "    </tr>\n",
       "    <tr>\n",
       "      <th>4</th>\n",
       "      <td>11004</td>\n",
       "      <td>Whiskey Sour</td>\n",
       "      <td>Ordinary Drink</td>\n",
       "      <td>Old-fashioned glass</td>\n",
       "      <td>[IBA, Classic, Alcoholic, ContemporaryClassic]</td>\n",
       "      <td>Shake with ice. Strain into chilled glass, gar...</td>\n",
       "      <td>1</td>\n",
       "      <td>[{'id': 409, 'name': 'Powdered Sugar', 'descri...</td>\n",
       "    </tr>\n",
       "    <tr>\n",
       "      <th>...</th>\n",
       "      <td>...</td>\n",
       "      <td>...</td>\n",
       "      <td>...</td>\n",
       "      <td>...</td>\n",
       "      <td>...</td>\n",
       "      <td>...</td>\n",
       "      <td>...</td>\n",
       "      <td>...</td>\n",
       "    </tr>\n",
       "    <tr>\n",
       "      <th>129</th>\n",
       "      <td>11985</td>\n",
       "      <td>Quarter Deck Cocktail</td>\n",
       "      <td>Ordinary Drink</td>\n",
       "      <td>Cocktail glass</td>\n",
       "      <td>None</td>\n",
       "      <td>Stir all ingredients with ice, strain into a c...</td>\n",
       "      <td>1</td>\n",
       "      <td>[{'id': 305, 'name': 'Light Rum', 'description...</td>\n",
       "    </tr>\n",
       "    <tr>\n",
       "      <th>130</th>\n",
       "      <td>11987</td>\n",
       "      <td>Queen Bee</td>\n",
       "      <td>Ordinary Drink</td>\n",
       "      <td>Cocktail glass</td>\n",
       "      <td>None</td>\n",
       "      <td>Shake all ingredients with ice, strain into a ...</td>\n",
       "      <td>1</td>\n",
       "      <td>[{'id': 137, 'name': 'Coffee Brandy', 'descrip...</td>\n",
       "    </tr>\n",
       "    <tr>\n",
       "      <th>131</th>\n",
       "      <td>11989</td>\n",
       "      <td>Queen Charlotte</td>\n",
       "      <td>Ordinary Drink</td>\n",
       "      <td>Collins glass</td>\n",
       "      <td>None</td>\n",
       "      <td>Pour red wine and grenadine into a collins gla...</td>\n",
       "      <td>1</td>\n",
       "      <td>[{'id': 250, 'name': 'Grenadine', 'description...</td>\n",
       "    </tr>\n",
       "    <tr>\n",
       "      <th>132</th>\n",
       "      <td>11991</td>\n",
       "      <td>Queen Elizabeth</td>\n",
       "      <td>Ordinary Drink</td>\n",
       "      <td>Cocktail glass</td>\n",
       "      <td>None</td>\n",
       "      <td>Stir all ingredients with ice, strain into a c...</td>\n",
       "      <td>1</td>\n",
       "      <td>[{'id': 2, 'name': 'Gin', 'description': 'Gin ...</td>\n",
       "    </tr>\n",
       "    <tr>\n",
       "      <th>133</th>\n",
       "      <td>11993</td>\n",
       "      <td>Quentin</td>\n",
       "      <td>Ordinary Drink</td>\n",
       "      <td>Cocktail glass</td>\n",
       "      <td>None</td>\n",
       "      <td>In a shaker half-filled with ice cubes, combin...</td>\n",
       "      <td>1</td>\n",
       "      <td>[{'id': 179, 'name': 'Dark Rum', 'description'...</td>\n",
       "    </tr>\n",
       "  </tbody>\n",
       "</table>\n",
       "<p>134 rows × 8 columns</p>\n",
       "</div>"
      ],
      "text/plain": [
       "        id  ...                                        ingredients\n",
       "0    11000  ...  [{'id': 170, 'name': 'Soda water', 'descriptio...\n",
       "1    11001  ...  [{'id': 513, 'name': 'Water', 'description': '...\n",
       "2    11002  ...  [{'id': 305, 'name': 'Light Rum', 'description...\n",
       "3    11003  ...  [{'id': 482, 'name': 'Sweet Vermouth', 'descri...\n",
       "4    11004  ...  [{'id': 409, 'name': 'Powdered Sugar', 'descri...\n",
       "..     ...  ...                                                ...\n",
       "129  11985  ...  [{'id': 305, 'name': 'Light Rum', 'description...\n",
       "130  11987  ...  [{'id': 137, 'name': 'Coffee Brandy', 'descrip...\n",
       "131  11989  ...  [{'id': 250, 'name': 'Grenadine', 'description...\n",
       "132  11991  ...  [{'id': 2, 'name': 'Gin', 'description': 'Gin ...\n",
       "133  11993  ...  [{'id': 179, 'name': 'Dark Rum', 'description'...\n",
       "\n",
       "[134 rows x 8 columns]"
      ]
     },
     "execution_count": null,
     "metadata": {},
     "output_type": "execute_result"
    }
   ],
   "source": [
    "data = data.drop(columns = ['imageUrl', 'createdAt', 'updatedAt'])\n",
    "data"
   ]
  },
  {
   "cell_type": "code",
   "execution_count": 9,
   "metadata": {},
   "outputs": [
    {
     "data": {
      "text/plain": [
       "Ordinary Drink         127\n",
       "Cocktail                 6\n",
       "Punch / Party Drink      1\n",
       "Name: category, dtype: int64"
      ]
     },
     "execution_count": null,
     "metadata": {},
     "output_type": "execute_result"
    }
   ],
   "source": [
    "data['category'].value_counts()"
   ]
  },
  {
   "cell_type": "code",
   "execution_count": 10,
   "metadata": {},
   "outputs": [
    {
     "data": {
      "image/png": "[encoded data removed]",
      "text/plain": [
       "<Figure size 640x480 with 1 Axes>"
      ]
     },
     "metadata": {},
     "output_type": "display_data"
    }
   ],
   "source": [
    "value_counts = data['category'].value_counts().reset_index()\n",
    "value_counts.columns = ['category', 'count']\n",
    "sns.barplot(x='category', y='count', data=value_counts)\n",
    "\n",
    "plt.show()\n"
   ]
  },
  {
   "cell_type": "code",
   "execution_count": 11,
   "metadata": {},
   "outputs": [
    {
     "data": {
      "text/plain": [
       "Cocktail glass         59\n",
       "Old-fashioned glass    25\n",
       "Highball glass         17\n",
       "Whiskey sour glass     11\n",
       "Collins glass          10\n",
       "Champagne flute         6\n",
       "Pousse cafe glass       2\n",
       "Copper Mug              1\n",
       "Whiskey Glass           1\n",
       "Brandy snifter          1\n",
       "White wine glass        1\n",
       "Name: glass, dtype: int64"
      ]
     },
     "execution_count": null,
     "metadata": {},
     "output_type": "execute_result"
    }
   ],
   "source": [
    "data['glass'].value_counts()"
   ]
  },
  {
   "cell_type": "code",
   "execution_count": 12,
   "metadata": {},
   "outputs": [
    {
     "data": {
      "image/png": "[encoded data removed]",
      "text/plain": [
       "<Figure size 1900x700 with 1 Axes>"
      ]
     },
     "metadata": {},
     "output_type": "display_data"
    }
   ],
   "source": [
    "plt.figure(figsize=(19, 7))\n",
    "value_counts = data['glass'].value_counts().reset_index()\n",
    "value_counts.columns = ['category', 'count']\n",
    "sns.barplot(x='category', y='count', data=value_counts)\n",
    "\n",
    "plt.show()"
   ]
  },
  {
   "cell_type": "code",
   "execution_count": 13,
   "metadata": {},
   "outputs": [
    {
     "data": {
      "text/plain": [
       "<bound method IndexOpsMixin.value_counts of 0      [IBA, ContemporaryClassic, Alcoholic, USA, Asi...\n",
       "1           [IBA, Classic, Alcoholic, Expensive, Savory]\n",
       "2      [Strong, Asia, StrongFlavor, Brunch, Vegetaria...\n",
       "3                                         [IBA, Classic]\n",
       "4         [IBA, Classic, Alcoholic, ContemporaryClassic]\n",
       "                             ...                        \n",
       "129                                                 None\n",
       "130                                                 None\n",
       "131                                                 None\n",
       "132                                                 None\n",
       "133                                                 None\n",
       "Name: tags, Length: 134, dtype: object>"
      ]
     },
     "execution_count": null,
     "metadata": {},
     "output_type": "execute_result"
    }
   ],
   "source": [
    "data['tags'].value_counts"
   ]
  },
  {
   "cell_type": "code",
   "execution_count": 14,
   "metadata": {},
   "outputs": [
    {
     "data": {
      "text/plain": [
       "99"
      ]
     },
     "execution_count": null,
     "metadata": {},
     "output_type": "execute_result"
    }
   ],
   "source": [
    "data['tags'].isna().sum()\n",
    "# 99 rows out of 134 are missing for this column\n"
   ]
  },
  {
   "cell_type": "code",
   "execution_count": 15,
   "metadata": {},
   "outputs": [
    {
     "data": {
      "text/html": [
       "<div>\n",
       "<style scoped>\n",
       "    .dataframe tbody tr th:only-of-type {\n",
       "        vertical-align: middle;\n",
       "    }\n",
       "\n",
       "    .dataframe tbody tr th {\n",
       "        vertical-align: top;\n",
       "    }\n",
       "\n",
       "    .dataframe thead th {\n",
       "        text-align: right;\n",
       "    }\n",
       "</style>\n",
       "<table border=\"1\" class=\"dataframe\">\n",
       "  <thead>\n",
       "    <tr style=\"text-align: right;\">\n",
       "      <th></th>\n",
       "      <th>category</th>\n",
       "      <th>glass</th>\n",
       "      <th>tags</th>\n",
       "      <th>instructions</th>\n",
       "      <th>ingredients</th>\n",
       "    </tr>\n",
       "  </thead>\n",
       "  <tbody>\n",
       "    <tr>\n",
       "      <th>count</th>\n",
       "      <td>134</td>\n",
       "      <td>134</td>\n",
       "      <td>35</td>\n",
       "      <td>134</td>\n",
       "      <td>134</td>\n",
       "    </tr>\n",
       "    <tr>\n",
       "      <th>unique</th>\n",
       "      <td>3</td>\n",
       "      <td>11</td>\n",
       "      <td>24</td>\n",
       "      <td>106</td>\n",
       "      <td>134</td>\n",
       "    </tr>\n",
       "    <tr>\n",
       "      <th>top</th>\n",
       "      <td>Ordinary Drink</td>\n",
       "      <td>Cocktail glass</td>\n",
       "      <td>[IBA, ContemporaryClassic]</td>\n",
       "      <td>Shake all ingredients with ice, strain into a ...</td>\n",
       "      <td>[{'id': 170, 'name': 'Soda water', 'descriptio...</td>\n",
       "    </tr>\n",
       "    <tr>\n",
       "      <th>freq</th>\n",
       "      <td>127</td>\n",
       "      <td>59</td>\n",
       "      <td>10</td>\n",
       "      <td>12</td>\n",
       "      <td>1</td>\n",
       "    </tr>\n",
       "  </tbody>\n",
       "</table>\n",
       "</div>"
      ],
      "text/plain": [
       "              category  ...                                        ingredients\n",
       "count              134  ...                                                134\n",
       "unique               3  ...                                                134\n",
       "top     Ordinary Drink  ...  [{'id': 170, 'name': 'Soda water', 'descriptio...\n",
       "freq               127  ...                                                  1\n",
       "\n",
       "[4 rows x 5 columns]"
      ]
     },
     "execution_count": null,
     "metadata": {},
     "output_type": "execute_result"
    }
   ],
   "source": [
    "data[['category', 'glass', 'tags', 'instructions', 'ingredients']].describe()"
   ]
  }
 ],
 "metadata": {
  "language_info": {
   "name": "python"
  }
 },
 "nbformat": 4,
 "nbformat_minor": 2
}
